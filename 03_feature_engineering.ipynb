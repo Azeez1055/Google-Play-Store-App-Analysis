{
 "cells": [
  {
   "cell_type": "code",
   "execution_count": 5,
   "id": "f915f87c-4738-4bc3-b2c9-09e8f4ae2b31",
   "metadata": {},
   "outputs": [],
   "source": [
    "import pandas as pd\n",
    "import numpy as np\n",
    "\n",
    "df = pd.read_csv('processed_data.csv')\n",
    "df.head()\n",
    "\n",
    "# Feature: 'Days Since Last Update'\n",
    "def get_day(last_updated):\n",
    "    if isinstance(last_updated, str):\n",
    "        last_updated = pd.to_datetime(last_updated, errors = 'coerce')\n",
    "    if pd.notna(last_updated):\n",
    "        return (pd.to_datetime('2018-08-08') - last_updated).days\n",
    "    return np.nan\n",
    "\n",
    "df['Last Updated Days']=df['Last Updated'].apply(get_day)\n",
    "df.dropna(subset=['Last Updated Days'], inplace=True)\n",
    "df['Last Updated Days'] = df['Last Updated Days'].astype(int)\n",
    "\n",
    "# Feature: 'Is Free'\n",
    "df[\"Type\"] = df[\"Type\"].apply(lambda x: x == 'Free')\n",
    "\n",
    "# display some of the data with the new columns\n",
    "df.head()\n",
    "\n",
    "# Save the new dataset\n",
    "df.to_csv('processed_data.csv', index=False)"
   ]
  }
 ],
 "metadata": {
  "kernelspec": {
   "display_name": "Python 3",
   "language": "python",
   "name": "python3"
  },
  "language_info": {
   "codemirror_mode": {
    "name": "ipython",
    "version": 3
   },
   "file_extension": ".py",
   "mimetype": "text/x-python",
   "name": "python",
   "nbconvert_exporter": "python",
   "pygments_lexer": "ipython3",
   "version": "3.12.6"
  }
 },
 "nbformat": 4,
 "nbformat_minor": 5
}
